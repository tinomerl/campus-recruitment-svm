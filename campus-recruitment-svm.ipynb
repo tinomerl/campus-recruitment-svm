{
 "cells": [
  {
   "cell_type": "markdown",
   "metadata": {},
   "source": [
    "# Campus Recruitment with SVM and grid Search\n",
    "Author: Tino Merl"
   ]
  },
  {
   "cell_type": "markdown",
   "metadata": {},
   "source": [
    "__Table of Contents:__\n",
    "* [Motivation & Goal](#motiv_goal)\n",
    "* [CRISP-DM](#crisp_dm)\n",
    "* [Business Understanding](#buss_und)\n",
    "* [Data Unterstanding](#dat_und)\n",
    "* [Data Preparation](#dat_prep)\n",
    "* [Modeling](#model)\n",
    "* [Evaluation](#eval)"
   ]
  },
  {
   "cell_type": "markdown",
   "metadata": {},
   "source": [
    "## Motivation & Goal<a class=\"anchor\" id=\"motiv_goal\"></a>\n",
    "First and foremost this is a homework to deepen the understanding and usage of python's library scikit-learn. To be precise the usage of support vector machines(SVM) in scikit-learn. For this assignment the campus recruiment dataset from kaggle is used.[[1]](#kaggle_dataset) The goal is to use SVMs to answer the following questions tasked for the dataset.\n",
    "\n",
    "1. Which factor influenced a candidate in getting placed?\n",
    "2. Does percentage matters for one to get placed?\n",
    "3. Which degree specialization is much demanded by corporate?\n",
    "4. Play with the data conducting all statistical tests."
   ]
  },
  {
   "cell_type": "markdown",
   "metadata": {},
   "source": [
    "## CRISP-DM<a class=\"anchor\" id=\"crisp_dm\"></a>\n",
    "CRISP-DM is an acronym standing for Cross Industry Standard Process for Data Mining. I will continue to refer to it as CRISP-DM. It's a widely used process for standardization while working with data. It consists of six steps.\n",
    "\n",
    "1. Business Understanding\n",
    "2. Data Unterstanding\n",
    "3. Data Preparation\n",
    "4. Modeling\n",
    "5. Evaluation\n",
    "6. Deployment\n",
    "\n",
    "For the sake of this homework we will be leaving out the last step since this model will not be deployed to production. Therefore it will remain as experimental and we end the process after the fifth step."
   ]
  },
  {
   "cell_type": "markdown",
   "metadata": {},
   "source": [
    "## Business Understanding\n",
    "\n",
    "Since there is no real business use case we will translate the assignment and the questions listed in the first paragraph."
   ]
  },
  {
   "cell_type": "markdown",
   "metadata": {},
   "source": [
    "## Footnotes\n",
    "[[1]]<a class=\"anchor\" id=\"kaggle_dataset\"></a> Ben Roshan D (2020). Campus Recruitment, Academic and Employability Factors influencing placement, Version 1. Retrieved 2020-05-10 from https://www.kaggle.com/benroshan/factors-affecting-campus-placement."
   ]
  }
 ],
 "metadata": {
  "language_info": {
   "codemirror_mode": {
    "name": "ipython",
    "version": 3
   },
   "file_extension": ".py",
   "mimetype": "text/x-python",
   "name": "python",
   "nbconvert_exporter": "python",
   "pygments_lexer": "ipython3",
   "version": 3
  },
  "orig_nbformat": 2
 },
 "nbformat": 4,
 "nbformat_minor": 2
}
