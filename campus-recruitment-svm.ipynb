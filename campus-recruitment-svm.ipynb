{
 "cells": [
  {
   "cell_type": "markdown",
   "metadata": {},
   "source": [
    "# Campus Recruitment with SVM and grid search\n",
    "Author: Tino Merl"
   ]
  },
  {
   "cell_type": "markdown",
   "metadata": {},
   "source": [
    "__Table of Contents:__\n",
    "* [Motivation & Goal](#motiv_goal)\n",
    "* [CRISP-DM](#crisp_dm)\n",
    "* [Business Understanding](#buss_und)\n",
    "* [Data Unterstanding](#dat_und)\n",
    "* [Data Preparation](#dat_prep)\n",
    "* [Modeling](#model)\n",
    "* [Evaluation](#eval)"
   ]
  },
  {
   "cell_type": "markdown",
   "metadata": {},
   "source": [
    "## Motivation & Goal<a class=\"anchor\" id=\"motiv_goal\"></a>\n",
    "First and foremost this is a homework to deepen the understanding and usage of python's library scikit-learn. To be precise the usage of support vector machines(SVM) in scikit-learn. For this assignment the campus recruiment dataset from kaggle is used.[[1]](#kaggle_dataset) The goal is to use SVMs to answer the following questions tasked for the dataset.\n",
    "\n",
    "1. Which factor influenced a candidate in getting placed?\n",
    "2. Does percentage matters for one to get placed?\n",
    "3. Which degree specialization is much demanded by corporate?"
   ]
  },
  {
   "cell_type": "markdown",
   "metadata": {},
   "source": [
    "## CRISP-DM<a class=\"anchor\" id=\"crisp_dm\"></a>\n",
    "CRISP-DM is an acronym standing for Cross Industry Standard Process for Data Mining. I will continue to refer to it as CRISP-DM. It's a widely used process for standardization while working with data. It consists of six steps.\n",
    "\n",
    "1. Business Understanding\n",
    "2. Data Unterstanding\n",
    "3. Data Preparation\n",
    "4. Modeling\n",
    "5. Evaluation\n",
    "6. Deployment\n",
    "\n",
    "Although this list lines them out as sequential there is sometimes a bit of back and forth between the steps. This is better lined out by the following illustration.\n",
    "\n",
    "<div style=\"margin:auto;\">\n",
    "    <img style=\"display:block; margin-left: auto; margin-right:auto;\" src=\"img/crisp-dm_diagramm.png\"/>\n",
    "    <figcaption style=\"text-align:center;\">CRISP-DM diagram by statistik-dresden.de[<a href=\"#crisp-dm_diagramm\">2</a>]</figcaption>\n",
    "</div>\n",
    "\n",
    "For the sake of this homework we will be leaving out the last step since this model will not be deployed to production. Therefore it will remain as experimental and we end the process after the fifth step."
   ]
  },
  {
   "cell_type": "markdown",
   "metadata": {},
   "source": [
    "## Business Understanding<a class=\"anchor\" id=\"buss_und\"></a>\n",
    "\n",
    "Since there is no real business use case we will translate the assignment and the questions listed in the first paragraph. I will list them here again and try to elaborate on each on.\n",
    "\n",
    "### Which factor influenced a candidate in getting placed?\n",
    "To find this out we will be using the vector machine and a grid search. In this step we want to find out which one of our features had the most impact on our model.\n",
    "\n",
    "### Does percentage matters for one to get placed?\n",
    "This question will hopefully be answered by the same Procedure used to answer the previous question. By looking at the features and their impact it will be made clear whether or not the percentage mattered. \n",
    "\n",
    "### Which degree specialization is much demanded by corporate?\n",
    "To find that out we will use hot label encoding and will be hopefully find out something about this question."
   ]
  },
  {
   "cell_type": "markdown",
   "metadata": {},
   "source": [
    "## Data Understanding<a class=\"anchor\" id=\"dat_und\"></a>\n",
    "For the step of data understanding we will will first include and look at the official kaggle documentation and the description of the columns.\n",
    "* `sl_no` {integer} -- Serial Number.\n",
    "* `gender` {string} -- Gender- Male='M',Female='F'.\n",
    "* `ssc_p` {float} -- Secondary Education percentage - 10th Grade.\n",
    "* `ssc_b` {string} -- Board of Education.\n",
    "* `hsc_p` {float} -- Higher Secondary Education percentage - 12th Grade.\n",
    "* `hsc_b` {string} -- Board of Education - Central/ Others.\n",
    "* `hsc_s` {string} -- Specialization in Higher Secondary Education.\n",
    "* `degree_p` {float} -- Degree Percentage.\n",
    "* `degree_t` {string} -- Under Graduation(Degree type) - Field of degree education.\n",
    "* `workex` {bool} -- Work Experience.\n",
    "* `etest_p` {float} -- Employability test percentage (conducted by college).\n",
    "* `specialisation` {string} -- Post Graduation(MBA) - Specialization.\n",
    "* `mba_p` {float} -- MBA percentage.\n",
    "* `status` {string} -- Status of placement- Placed/Not placed.\n",
    "* `salary` {integer} -- Salary offered by corporate to candidates.\n",
    "\n",
    "Since we had the first look at namings at their potential data types it is now time to load the data and check up for anomalies."
   ]
  },
  {
   "cell_type": "code",
   "execution_count": 8,
   "metadata": {},
   "outputs": [],
   "source": [
    "import os\n",
    "\n",
    "import matplotlib.pyplot as plt\n",
    "import numpy as np\n",
    "import pandas as pd\n",
    "from sklearn import svm "
   ]
  },
  {
   "cell_type": "code",
   "execution_count": 9,
   "metadata": {},
   "outputs": [
    {
     "output_type": "execute_result",
     "data": {
      "text/plain": "     sl_no gender  ssc_p    ssc_b  hsc_p    hsc_b     hsc_s  degree_p  \\\n137    138      M  67.00   Others  63.00  Central  Commerce     72.00   \n183    184      M  65.00  Central  77.00  Central  Commerce     69.00   \n153    154      M  49.00   Others  59.00   Others   Science     65.00   \n164    165      F  67.16  Central  72.50  Central  Commerce     63.35   \n128    129      M  80.40  Central  73.40  Central   Science     77.72   \n53      54      M  80.00   Others  70.00   Others   Science     72.00   \n76      77      F  66.50   Others  70.40  Central      Arts     71.93   \n24      25      M  76.50   Others  97.70   Others   Science     78.86   \n51      52      M  54.40  Central  61.12  Central  Commerce     56.20   \n65      66      M  54.00   Others  47.00   Others   Science     57.00   \n\n      degree_t workex  etest_p specialisation  mba_p      status    salary  \n137  Comm&Mgmt     No    56.00         Mkt&HR  60.41      Placed  225000.0  \n183  Comm&Mgmt     No    60.00         Mkt&HR  61.82      Placed  276000.0  \n153   Sci&Tech    Yes    86.00        Mkt&Fin  62.48      Placed  340000.0  \n164  Comm&Mgmt     No    53.04        Mkt&Fin  65.52      Placed  250000.0  \n128   Sci&Tech    Yes    81.20         Mkt&HR  76.26      Placed  400000.0  \n53    Sci&Tech     No    87.00         Mkt&HR  71.04      Placed  450000.0  \n76   Comm&Mgmt     No    61.00        Mkt&Fin  64.27      Placed  230000.0  \n24    Sci&Tech     No    97.40        Mkt&Fin  74.01      Placed  360000.0  \n51   Comm&Mgmt     No    67.00         Mkt&HR  62.65  Not Placed       NaN  \n65   Comm&Mgmt     No    89.69         Mkt&HR  57.10  Not Placed       NaN  ",
      "text/html": "<div>\n<style scoped>\n    .dataframe tbody tr th:only-of-type {\n        vertical-align: middle;\n    }\n\n    .dataframe tbody tr th {\n        vertical-align: top;\n    }\n\n    .dataframe thead th {\n        text-align: right;\n    }\n</style>\n<table border=\"1\" class=\"dataframe\">\n  <thead>\n    <tr style=\"text-align: right;\">\n      <th></th>\n      <th>sl_no</th>\n      <th>gender</th>\n      <th>ssc_p</th>\n      <th>ssc_b</th>\n      <th>hsc_p</th>\n      <th>hsc_b</th>\n      <th>hsc_s</th>\n      <th>degree_p</th>\n      <th>degree_t</th>\n      <th>workex</th>\n      <th>etest_p</th>\n      <th>specialisation</th>\n      <th>mba_p</th>\n      <th>status</th>\n      <th>salary</th>\n    </tr>\n  </thead>\n  <tbody>\n    <tr>\n      <th>137</th>\n      <td>138</td>\n      <td>M</td>\n      <td>67.00</td>\n      <td>Others</td>\n      <td>63.00</td>\n      <td>Central</td>\n      <td>Commerce</td>\n      <td>72.00</td>\n      <td>Comm&amp;Mgmt</td>\n      <td>No</td>\n      <td>56.00</td>\n      <td>Mkt&amp;HR</td>\n      <td>60.41</td>\n      <td>Placed</td>\n      <td>225000.0</td>\n    </tr>\n    <tr>\n      <th>183</th>\n      <td>184</td>\n      <td>M</td>\n      <td>65.00</td>\n      <td>Central</td>\n      <td>77.00</td>\n      <td>Central</td>\n      <td>Commerce</td>\n      <td>69.00</td>\n      <td>Comm&amp;Mgmt</td>\n      <td>No</td>\n      <td>60.00</td>\n      <td>Mkt&amp;HR</td>\n      <td>61.82</td>\n      <td>Placed</td>\n      <td>276000.0</td>\n    </tr>\n    <tr>\n      <th>153</th>\n      <td>154</td>\n      <td>M</td>\n      <td>49.00</td>\n      <td>Others</td>\n      <td>59.00</td>\n      <td>Others</td>\n      <td>Science</td>\n      <td>65.00</td>\n      <td>Sci&amp;Tech</td>\n      <td>Yes</td>\n      <td>86.00</td>\n      <td>Mkt&amp;Fin</td>\n      <td>62.48</td>\n      <td>Placed</td>\n      <td>340000.0</td>\n    </tr>\n    <tr>\n      <th>164</th>\n      <td>165</td>\n      <td>F</td>\n      <td>67.16</td>\n      <td>Central</td>\n      <td>72.50</td>\n      <td>Central</td>\n      <td>Commerce</td>\n      <td>63.35</td>\n      <td>Comm&amp;Mgmt</td>\n      <td>No</td>\n      <td>53.04</td>\n      <td>Mkt&amp;Fin</td>\n      <td>65.52</td>\n      <td>Placed</td>\n      <td>250000.0</td>\n    </tr>\n    <tr>\n      <th>128</th>\n      <td>129</td>\n      <td>M</td>\n      <td>80.40</td>\n      <td>Central</td>\n      <td>73.40</td>\n      <td>Central</td>\n      <td>Science</td>\n      <td>77.72</td>\n      <td>Sci&amp;Tech</td>\n      <td>Yes</td>\n      <td>81.20</td>\n      <td>Mkt&amp;HR</td>\n      <td>76.26</td>\n      <td>Placed</td>\n      <td>400000.0</td>\n    </tr>\n    <tr>\n      <th>53</th>\n      <td>54</td>\n      <td>M</td>\n      <td>80.00</td>\n      <td>Others</td>\n      <td>70.00</td>\n      <td>Others</td>\n      <td>Science</td>\n      <td>72.00</td>\n      <td>Sci&amp;Tech</td>\n      <td>No</td>\n      <td>87.00</td>\n      <td>Mkt&amp;HR</td>\n      <td>71.04</td>\n      <td>Placed</td>\n      <td>450000.0</td>\n    </tr>\n    <tr>\n      <th>76</th>\n      <td>77</td>\n      <td>F</td>\n      <td>66.50</td>\n      <td>Others</td>\n      <td>70.40</td>\n      <td>Central</td>\n      <td>Arts</td>\n      <td>71.93</td>\n      <td>Comm&amp;Mgmt</td>\n      <td>No</td>\n      <td>61.00</td>\n      <td>Mkt&amp;Fin</td>\n      <td>64.27</td>\n      <td>Placed</td>\n      <td>230000.0</td>\n    </tr>\n    <tr>\n      <th>24</th>\n      <td>25</td>\n      <td>M</td>\n      <td>76.50</td>\n      <td>Others</td>\n      <td>97.70</td>\n      <td>Others</td>\n      <td>Science</td>\n      <td>78.86</td>\n      <td>Sci&amp;Tech</td>\n      <td>No</td>\n      <td>97.40</td>\n      <td>Mkt&amp;Fin</td>\n      <td>74.01</td>\n      <td>Placed</td>\n      <td>360000.0</td>\n    </tr>\n    <tr>\n      <th>51</th>\n      <td>52</td>\n      <td>M</td>\n      <td>54.40</td>\n      <td>Central</td>\n      <td>61.12</td>\n      <td>Central</td>\n      <td>Commerce</td>\n      <td>56.20</td>\n      <td>Comm&amp;Mgmt</td>\n      <td>No</td>\n      <td>67.00</td>\n      <td>Mkt&amp;HR</td>\n      <td>62.65</td>\n      <td>Not Placed</td>\n      <td>NaN</td>\n    </tr>\n    <tr>\n      <th>65</th>\n      <td>66</td>\n      <td>M</td>\n      <td>54.00</td>\n      <td>Others</td>\n      <td>47.00</td>\n      <td>Others</td>\n      <td>Science</td>\n      <td>57.00</td>\n      <td>Comm&amp;Mgmt</td>\n      <td>No</td>\n      <td>89.69</td>\n      <td>Mkt&amp;HR</td>\n      <td>57.10</td>\n      <td>Not Placed</td>\n      <td>NaN</td>\n    </tr>\n  </tbody>\n</table>\n</div>"
     },
     "metadata": {},
     "execution_count": 9
    }
   ],
   "source": [
    "np.random.seed(28)\n",
    "name = \"Placement_Data_Full_Class.csv\"\n",
    "df = pd.read_csv(os.path.join(\"data\", name))\n",
    "df.sample(10)"
   ]
  },
  {
   "cell_type": "markdown",
   "metadata": {},
   "source": [
    "Checkup if the datatypes were casted correctly to note for later in data preparation."
   ]
  },
  {
   "cell_type": "code",
   "execution_count": 17,
   "metadata": {},
   "outputs": [
    {
     "output_type": "stream",
     "name": "stdout",
     "text": "sl_no was casted as int64\ngender was casted as object\nssc_p was casted as float64\nssc_b was casted as object\nhsc_p was casted as float64\nhsc_b was casted as object\nhsc_s was casted as object\ndegree_p was casted as float64\ndegree_t was casted as object\nworkex was casted as object\netest_p was casted as float64\nspecialisation was casted as object\nmba_p was casted as float64\nstatus was casted as object\nsalary was casted as float64\n"
    }
   ],
   "source": [
    "for col in df.columns:\n",
    "    print(f\"{col} was casted as {df[col].dtypes}\")"
   ]
  },
  {
   "cell_type": "markdown",
   "metadata": {},
   "source": [
    "The first abnormalities can be already seen. `workex` wasn't casted as bool and `salary` has the datatype float instead of integer. The first stems from the point that instead of using `True` and `False` the Work experience seems to be coded with Yes and No as values. `salary` wasn't casted as integer because of the NaNs. Since integer can't naturally deal with NaNs this column was therefore casted as float. This can be fixed by replacing the NaNs later on."
   ]
  },
  {
   "cell_type": "code",
   "execution_count": 11,
   "metadata": {},
   "outputs": [
    {
     "output_type": "execute_result",
     "data": {
      "text/plain": "             sl_no gender       ssc_p    ssc_b       hsc_p   hsc_b     hsc_s  \\\ncount   215.000000    215  215.000000      215  215.000000     215       215   \nunique         NaN      2         NaN        2         NaN       2         3   \ntop            NaN      M         NaN  Central         NaN  Others  Commerce   \nfreq           NaN    139         NaN      116         NaN     131       113   \nmean    108.000000    NaN   67.303395      NaN   66.333163     NaN       NaN   \nstd      62.209324    NaN   10.827205      NaN   10.897509     NaN       NaN   \nmin       1.000000    NaN   40.890000      NaN   37.000000     NaN       NaN   \n25%      54.500000    NaN   60.600000      NaN   60.900000     NaN       NaN   \n50%     108.000000    NaN   67.000000      NaN   65.000000     NaN       NaN   \n75%     161.500000    NaN   75.700000      NaN   73.000000     NaN       NaN   \nmax     215.000000    NaN   89.400000      NaN   97.700000     NaN       NaN   \n\n          degree_p   degree_t workex     etest_p specialisation       mba_p  \\\ncount   215.000000        215    215  215.000000            215  215.000000   \nunique         NaN          3      2         NaN              2         NaN   \ntop            NaN  Comm&Mgmt     No         NaN        Mkt&Fin         NaN   \nfreq           NaN        145    141         NaN            120         NaN   \nmean     66.370186        NaN    NaN   72.100558            NaN   62.278186   \nstd       7.358743        NaN    NaN   13.275956            NaN    5.833385   \nmin      50.000000        NaN    NaN   50.000000            NaN   51.210000   \n25%      61.000000        NaN    NaN   60.000000            NaN   57.945000   \n50%      66.000000        NaN    NaN   71.000000            NaN   62.000000   \n75%      72.000000        NaN    NaN   83.500000            NaN   66.255000   \nmax      91.000000        NaN    NaN   98.000000            NaN   77.890000   \n\n        status         salary  \ncount      215     148.000000  \nunique       2            NaN  \ntop     Placed            NaN  \nfreq       148            NaN  \nmean       NaN  288655.405405  \nstd        NaN   93457.452420  \nmin        NaN  200000.000000  \n25%        NaN  240000.000000  \n50%        NaN  265000.000000  \n75%        NaN  300000.000000  \nmax        NaN  940000.000000  ",
      "text/html": "<div>\n<style scoped>\n    .dataframe tbody tr th:only-of-type {\n        vertical-align: middle;\n    }\n\n    .dataframe tbody tr th {\n        vertical-align: top;\n    }\n\n    .dataframe thead th {\n        text-align: right;\n    }\n</style>\n<table border=\"1\" class=\"dataframe\">\n  <thead>\n    <tr style=\"text-align: right;\">\n      <th></th>\n      <th>sl_no</th>\n      <th>gender</th>\n      <th>ssc_p</th>\n      <th>ssc_b</th>\n      <th>hsc_p</th>\n      <th>hsc_b</th>\n      <th>hsc_s</th>\n      <th>degree_p</th>\n      <th>degree_t</th>\n      <th>workex</th>\n      <th>etest_p</th>\n      <th>specialisation</th>\n      <th>mba_p</th>\n      <th>status</th>\n      <th>salary</th>\n    </tr>\n  </thead>\n  <tbody>\n    <tr>\n      <th>count</th>\n      <td>215.000000</td>\n      <td>215</td>\n      <td>215.000000</td>\n      <td>215</td>\n      <td>215.000000</td>\n      <td>215</td>\n      <td>215</td>\n      <td>215.000000</td>\n      <td>215</td>\n      <td>215</td>\n      <td>215.000000</td>\n      <td>215</td>\n      <td>215.000000</td>\n      <td>215</td>\n      <td>148.000000</td>\n    </tr>\n    <tr>\n      <th>unique</th>\n      <td>NaN</td>\n      <td>2</td>\n      <td>NaN</td>\n      <td>2</td>\n      <td>NaN</td>\n      <td>2</td>\n      <td>3</td>\n      <td>NaN</td>\n      <td>3</td>\n      <td>2</td>\n      <td>NaN</td>\n      <td>2</td>\n      <td>NaN</td>\n      <td>2</td>\n      <td>NaN</td>\n    </tr>\n    <tr>\n      <th>top</th>\n      <td>NaN</td>\n      <td>M</td>\n      <td>NaN</td>\n      <td>Central</td>\n      <td>NaN</td>\n      <td>Others</td>\n      <td>Commerce</td>\n      <td>NaN</td>\n      <td>Comm&amp;Mgmt</td>\n      <td>No</td>\n      <td>NaN</td>\n      <td>Mkt&amp;Fin</td>\n      <td>NaN</td>\n      <td>Placed</td>\n      <td>NaN</td>\n    </tr>\n    <tr>\n      <th>freq</th>\n      <td>NaN</td>\n      <td>139</td>\n      <td>NaN</td>\n      <td>116</td>\n      <td>NaN</td>\n      <td>131</td>\n      <td>113</td>\n      <td>NaN</td>\n      <td>145</td>\n      <td>141</td>\n      <td>NaN</td>\n      <td>120</td>\n      <td>NaN</td>\n      <td>148</td>\n      <td>NaN</td>\n    </tr>\n    <tr>\n      <th>mean</th>\n      <td>108.000000</td>\n      <td>NaN</td>\n      <td>67.303395</td>\n      <td>NaN</td>\n      <td>66.333163</td>\n      <td>NaN</td>\n      <td>NaN</td>\n      <td>66.370186</td>\n      <td>NaN</td>\n      <td>NaN</td>\n      <td>72.100558</td>\n      <td>NaN</td>\n      <td>62.278186</td>\n      <td>NaN</td>\n      <td>288655.405405</td>\n    </tr>\n    <tr>\n      <th>std</th>\n      <td>62.209324</td>\n      <td>NaN</td>\n      <td>10.827205</td>\n      <td>NaN</td>\n      <td>10.897509</td>\n      <td>NaN</td>\n      <td>NaN</td>\n      <td>7.358743</td>\n      <td>NaN</td>\n      <td>NaN</td>\n      <td>13.275956</td>\n      <td>NaN</td>\n      <td>5.833385</td>\n      <td>NaN</td>\n      <td>93457.452420</td>\n    </tr>\n    <tr>\n      <th>min</th>\n      <td>1.000000</td>\n      <td>NaN</td>\n      <td>40.890000</td>\n      <td>NaN</td>\n      <td>37.000000</td>\n      <td>NaN</td>\n      <td>NaN</td>\n      <td>50.000000</td>\n      <td>NaN</td>\n      <td>NaN</td>\n      <td>50.000000</td>\n      <td>NaN</td>\n      <td>51.210000</td>\n      <td>NaN</td>\n      <td>200000.000000</td>\n    </tr>\n    <tr>\n      <th>25%</th>\n      <td>54.500000</td>\n      <td>NaN</td>\n      <td>60.600000</td>\n      <td>NaN</td>\n      <td>60.900000</td>\n      <td>NaN</td>\n      <td>NaN</td>\n      <td>61.000000</td>\n      <td>NaN</td>\n      <td>NaN</td>\n      <td>60.000000</td>\n      <td>NaN</td>\n      <td>57.945000</td>\n      <td>NaN</td>\n      <td>240000.000000</td>\n    </tr>\n    <tr>\n      <th>50%</th>\n      <td>108.000000</td>\n      <td>NaN</td>\n      <td>67.000000</td>\n      <td>NaN</td>\n      <td>65.000000</td>\n      <td>NaN</td>\n      <td>NaN</td>\n      <td>66.000000</td>\n      <td>NaN</td>\n      <td>NaN</td>\n      <td>71.000000</td>\n      <td>NaN</td>\n      <td>62.000000</td>\n      <td>NaN</td>\n      <td>265000.000000</td>\n    </tr>\n    <tr>\n      <th>75%</th>\n      <td>161.500000</td>\n      <td>NaN</td>\n      <td>75.700000</td>\n      <td>NaN</td>\n      <td>73.000000</td>\n      <td>NaN</td>\n      <td>NaN</td>\n      <td>72.000000</td>\n      <td>NaN</td>\n      <td>NaN</td>\n      <td>83.500000</td>\n      <td>NaN</td>\n      <td>66.255000</td>\n      <td>NaN</td>\n      <td>300000.000000</td>\n    </tr>\n    <tr>\n      <th>max</th>\n      <td>215.000000</td>\n      <td>NaN</td>\n      <td>89.400000</td>\n      <td>NaN</td>\n      <td>97.700000</td>\n      <td>NaN</td>\n      <td>NaN</td>\n      <td>91.000000</td>\n      <td>NaN</td>\n      <td>NaN</td>\n      <td>98.000000</td>\n      <td>NaN</td>\n      <td>77.890000</td>\n      <td>NaN</td>\n      <td>940000.000000</td>\n    </tr>\n  </tbody>\n</table>\n</div>"
     },
     "metadata": {},
     "execution_count": 11
    }
   ],
   "source": [
    "df.describe(include=\"all\")"
   ]
  },
  {
   "cell_type": "markdown",
   "metadata": {},
   "source": [
    "By first looking at the description of the dataframe it seems, that besides `salary` every column has every cell filled. That is really good. But we will still evaluate this finding later on. Another finding for the `salary` column is the extreme max value. The 75% quantile is 300000. The max value however is 940000. More than three times the 75% quantile. Therefore special attention should be paid to this column.\n",
    "Since the columns `gender`, `ssc_b`, `hsc_b`, `specialisation` and `status` all only consist of two different values they seem to be able to be label encoded when preparing the data for the SVM. \n",
    "The percentage columns however all look fine without any abnormalities.\n",
    "\n",
    "Before we look at the unique values of the non-percentage values we will first look at the thesis at fill-percentage of cells with and without `salary`."
   ]
  },
  {
   "cell_type": "code",
   "execution_count": 19,
   "metadata": {},
   "outputs": [
    {
     "output_type": "stream",
     "name": "stdout",
     "text": "Column fill percentage with salary included:\n0.06666666666666667\nColumn fill percentage with salary excluded:\n0.0\nCell fill percentage with salary included:\n0.020775193798449613\nCell fill percentage with salary excluded:\n0.0\n"
    }
   ],
   "source": [
    "print(\"Column fill percentage with salary included:\")\n",
    "print(len(df.columns[df.isna().any()])/len(df.columns))\n",
    "print(\"Column fill percentage with salary excluded:\")\n",
    "print(len(df.drop(columns=[\"salary\"]).columns[df.drop(columns=[\"salary\"]).isna().any()])/len(df.drop(columns=[\"salary\"]).columns))\n",
    "print(\"Cell fill percentage with salary included:\")\n",
    "print(df.isnull().sum().sum()/np.product(df.shape))\n",
    "print(\"Cell fill percentage with salary excluded:\")\n",
    "print(df.drop(columns=[\"salary\"]).isnull().sum().sum()/np.product(df.drop(columns=[\"salary\"]).shape))"
   ]
  },
  {
   "cell_type": "markdown",
   "metadata": {},
   "source": [
    "This proves the thesis, that except `salary` all columns and cells are perfectly filled. To find out if we can really label encode the previously matched columns we will now look at their unique values."
   ]
  },
  {
   "cell_type": "markdown",
   "metadata": {},
   "source": [
    "## Data Preparation\n",
    "\n",
    "__Needed Steps:__\n",
    "\n",
    "1. Update NaNs to 0.\n",
    "2. Cast `workex` to bool.\n",
    "3. Label encode `gender`, `ssc_b`, `hsc_b`, `specialisation` and `status`."
   ]
  },
  {
   "cell_type": "markdown",
   "metadata": {},
   "source": [
    "## Footnotes\n",
    "[1]<a class=\"anchor\" id=\"kaggle_dataset\"></a> Ben Roshan D (2020). Campus Recruitment, Academic and Employability Factors influencing placement, Version 1. Retrieved 2020-05-10 from https://www.kaggle.com/benroshan/factors-affecting-campus-placement.\n",
    "\n",
    "[2]<a class=\"anchor\" id=\"crisp-dm_diagramm\"></a> Wolf Riepel (2012). CRISP-DM: Ein Standard-Prozess-Modell für Data Mining. Retrieved 2020-05-10 from https://statistik-dresden.de/archives/1128"
   ]
  }
 ],
 "metadata": {
  "language_info": {
   "codemirror_mode": {
    "name": "ipython",
    "version": 3
   },
   "file_extension": ".py",
   "mimetype": "text/x-python",
   "name": "python",
   "nbconvert_exporter": "python",
   "pygments_lexer": "ipython3",
   "version": "3.7.5-final"
  },
  "orig_nbformat": 2,
  "kernelspec": {
   "name": "python37564bitvenvvenv64d3863e0ca2429b98d9076b86d7dc39",
   "display_name": "Python 3.7.5 64-bit ('.venv': venv)"
  }
 },
 "nbformat": 4,
 "nbformat_minor": 2
}
