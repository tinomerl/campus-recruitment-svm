{
 "cells": [
  {
   "cell_type": "markdown",
   "metadata": {},
   "source": [
    "# Campus Recruitment with SVM and grid Search\n",
    "Author: Tino Merl"
   ]
  },
  {
   "cell_type": "markdown",
   "metadata": {},
   "source": [
    "__Table of Contents:__\n",
    "* Motivation & Goal\n",
    "* Crisp DM\n",
    "* Business Unterstanding\n",
    "* Data Unterstanding\n",
    "* Data Preparation\n",
    "* Modeling\n",
    "* Evaluation"
   ]
  }
 ],
 "metadata": {
  "language_info": {
   "codemirror_mode": {
    "name": "ipython",
    "version": 3
   },
   "file_extension": ".py",
   "mimetype": "text/x-python",
   "name": "python",
   "nbconvert_exporter": "python",
   "pygments_lexer": "ipython3",
   "version": 3
  },
  "orig_nbformat": 2
 },
 "nbformat": 4,
 "nbformat_minor": 2
}
